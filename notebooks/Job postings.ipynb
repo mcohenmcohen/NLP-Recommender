{
 "cells": [
  {
   "cell_type": "code",
   "execution_count": 2,
   "metadata": {},
   "outputs": [
    {
     "name": "stdout",
     "output_type": "stream",
     "text": [
      "Getting user and applicant data...\n",
      "- Time: 0.909152984619\n",
      "\n"
     ]
    }
   ],
   "source": [
    "import jobs\n",
    "df = jobs.get_job_posting_data()"
   ]
  },
  {
   "cell_type": "code",
   "execution_count": 5,
   "metadata": {},
   "outputs": [
    {
     "name": "stdout",
     "output_type": "stream",
     "text": [
      "(24015, 5)\n"
     ]
    },
    {
     "data": {
      "text/html": [
       "<div>\n",
       "<style>\n",
       "    .dataframe thead tr:only-child th {\n",
       "        text-align: right;\n",
       "    }\n",
       "\n",
       "    .dataframe thead th {\n",
       "        text-align: left;\n",
       "    }\n",
       "\n",
       "    .dataframe tbody tr th {\n",
       "        vertical-align: top;\n",
       "    }\n",
       "</style>\n",
       "<table border=\"1\" class=\"dataframe\">\n",
       "  <thead>\n",
       "    <tr style=\"text-align: right;\">\n",
       "      <th></th>\n",
       "      <th>id</th>\n",
       "      <th>business_id</th>\n",
       "      <th>title</th>\n",
       "      <th>description</th>\n",
       "      <th>tag_names</th>\n",
       "    </tr>\n",
       "  </thead>\n",
       "  <tbody>\n",
       "    <tr>\n",
       "      <th>0</th>\n",
       "      <td>1666</td>\n",
       "      <td>35</td>\n",
       "      <td>Barista</td>\n",
       "      <td>Le Marais Bakery is expanding to Ghirardelli S...</td>\n",
       "      <td>Food &amp; Drink</td>\n",
       "    </tr>\n",
       "    <tr>\n",
       "      <th>1</th>\n",
       "      <td>1014</td>\n",
       "      <td>35</td>\n",
       "      <td>Barista</td>\n",
       "      <td>We are seeking baristas for Le Marais Bistro &amp;...</td>\n",
       "      <td>Food &amp; Drink</td>\n",
       "    </tr>\n",
       "    <tr>\n",
       "      <th>2</th>\n",
       "      <td>12909</td>\n",
       "      <td>71</td>\n",
       "      <td>Kitchen Opportunities</td>\n",
       "      <td>Hiring experienced prep/line cooks. 1-2 years ...</td>\n",
       "      <td>Food &amp; Drink</td>\n",
       "    </tr>\n",
       "    <tr>\n",
       "      <th>3</th>\n",
       "      <td>2814</td>\n",
       "      <td>71</td>\n",
       "      <td>Kitchen Positions</td>\n",
       "      <td>Now hiring for full time kitchen positions. &amp;n...</td>\n",
       "      <td>Food &amp; Drink</td>\n",
       "    </tr>\n",
       "    <tr>\n",
       "      <th>4</th>\n",
       "      <td>5417</td>\n",
       "      <td>71</td>\n",
       "      <td>Host/Barista/Server</td>\n",
       "      <td>Staff needed to fill multiple positions: host/...</td>\n",
       "      <td>Food &amp; Drink</td>\n",
       "    </tr>\n",
       "  </tbody>\n",
       "</table>\n",
       "</div>"
      ],
      "text/plain": [
       "      id  business_id                  title  \\\n",
       "0   1666           35                Barista   \n",
       "1   1014           35                Barista   \n",
       "2  12909           71  Kitchen Opportunities   \n",
       "3   2814           71      Kitchen Positions   \n",
       "4   5417           71    Host/Barista/Server   \n",
       "\n",
       "                                         description     tag_names  \n",
       "0  Le Marais Bakery is expanding to Ghirardelli S...  Food & Drink  \n",
       "1  We are seeking baristas for Le Marais Bistro &...  Food & Drink  \n",
       "2  Hiring experienced prep/line cooks. 1-2 years ...  Food & Drink  \n",
       "3  Now hiring for full time kitchen positions. &n...  Food & Drink  \n",
       "4  Staff needed to fill multiple positions: host/...  Food & Drink  "
      ]
     },
     "execution_count": 5,
     "metadata": {},
     "output_type": "execute_result"
    }
   ],
   "source": [
    "print df.shape\n",
    "df.head()"
   ]
  },
  {
   "cell_type": "code",
   "execution_count": 4,
   "metadata": {},
   "outputs": [
    {
     "data": {
      "text/plain": [
       "Food & Drink                                                                                                                                                                                                                                                                                                       5176\n",
       "Nonprofit                                                                                                                                                                                                                                                                                                          1244\n",
       "Professional Services                                                                                                                                                                                                                                                                                              1239\n",
       "Education                                                                                                                                                                                                                                                                                                          1231\n",
       "Retail                                                                                                                                                                                                                                                                                                              977\n",
       "Beauty & Spa                                                                                                                                                                                                                                                                                                        797\n",
       "Other                                                                                                                                                                                                                                                                                                               492\n",
       "Startups & Technology                                                                                                                                                                                                                                                                                               360\n",
       "Health & Fitness                                                                                                                                                                                                                                                                                                    355\n",
       "Flexible,Other,Professional Services,Food & Drink,Fast-paced,Professional,Fun                                                                                                                                                                                                                                       239\n",
       "Nonprofit,Community Oriented                                                                                                                                                                                                                                                                                        166\n",
       "Community Oriented,Nonprofit                                                                                                                                                                                                                                                                                        153\n",
       "Retail,Food & Drink                                                                                                                                                                                                                                                                                                 149\n",
       "Family Owned,Food & Drink                                                                                                                                                                                                                                                                                           148\n",
       "Education,Nonprofit                                                                                                                                                                                                                                                                                                 141\n",
       "Arts & Design                                                                                                                                                                                                                                                                                                       136\n",
       "Nonprofit,Education                                                                                                                                                                                                                                                                                                 132\n",
       "Food & Drink,Retail                                                                                                                                                                                                                                                                                                 113\n",
       "Food & Drink,Family Owned                                                                                                                                                                                                                                                                                           110\n",
       "Community Oriented,Nonprofit,Fast-paced,Mission Driven,Great Benefits,Education                                                                                                                                                                                                                                     103\n",
       "Mission Driven,Community Oriented,Nonprofit                                                                                                                                                                                                                                                                          83\n",
       "Food & Drink,Professional Services                                                                                                                                                                                                                                                                                   78\n",
       "Professional Services,Food & Drink                                                                                                                                                                                                                                                                                   77\n",
       "Great Benefits,Education,Creative,Sustainable,Community Oriented,Health & Fitness                                                                                                                                                                                                                                    73\n",
       "Great Benefits,Community Oriented,Nonprofit,Professional Services                                                                                                                                                                                                                                                    69\n",
       "Community Oriented,Great Benefits,Flexible Workplace,Retail,Health & Fitness,Other,Creative                                                                                                                                                                                                                          67\n",
       "Professional Services,Other                                                                                                                                                                                                                                                                                          61\n",
       "Manufacturing                                                                                                                                                                                                                                                                                                        59\n",
       "Community Oriented,Great Benefits,Nonprofit                                                                                                                                                                                                                                                                          58\n",
       "Education,Nonprofit,Arts & Design,Collaborative,Mission Driven,Fun,Flexible Workplace,Diverse                                                                                                                                                                                                                        53\n",
       "                                                                                                                                                                                                                                                                                                                   ... \n",
       "Professional,Education,Creative,Family Owned,Flexible,Community Oriented                                                                                                                                                                                                                                              1\n",
       "Professional Services,Minority Owned,Women Owned                                                                                                                                                                                                                                                                      1\n",
       "Flexible Workplace,Women Owned,Creative,Family Owned,Professional Services,Food & Drink                                                                                                                                                                                                                               1\n",
       "Community Oriented,Professional Services,Minority Owned,Other,Family Owned                                                                                                                                                                                                                                            1\n",
       "Education,Community Oriented,Women Owned                                                                                                                                                                                                                                                                              1\n",
       "Other,Family Owned,Food & Drink,Retail                                                                                                                                                                                                                                                                                1\n",
       "Education,Fun,Community Oriented,Collaborative                                                                                                                                                                                                                                                                        1\n",
       "Women Owned,Community Oriented,Food & Drink,Collaborative,Diverse,Creative                                                                                                                                                                                                                                            1\n",
       "Education,Creative,Great Benefits,Flexible Workplace                                                                                                                                                                                                                                                                  1\n",
       "Retail,Food & Drink,Community Oriented,Family Owned,Creative,Other                                                                                                                                                                                                                                                    1\n",
       "Mission Driven,Community Oriented,Creative,Fun,Diverse,Education                                                                                                                                                                                                                                                      1\n",
       "Community Oriented,Great Benefits,Flexible Workplace,Startups & Technology,Education,Nonprofit,Creative                                                                                                                                                                                                               1\n",
       "Community Oriented,Other,Startups & Technology,Creative,Professional Services                                                                                                                                                                                                                                         1\n",
       "Food & Drink,Retail,Family Owned                                                                                                                                                                                                                                                                                      1\n",
       "Creative,Nonprofit,Arts & Design,Community Oriented                                                                                                                                                                                                                                                                   1\n",
       "Family Owned,Other,Pet Friendly,Women Owned,Community Oriented,Creative,Professional Services,Education                                                                                                                                                                                                               1\n",
       "Other,Creative,Community Oriented,Pet Friendly,Sustainable,Flexible Workplace,Retail,Great Benefits,Professional Services                                                                                                                                                                                             1\n",
       "Manufacturing,Community Oriented,Flexible Workplace,Great Benefits                                                                                                                                                                                                                                                    1\n",
       "Nonprofit,Diverse,Community Oriented,Great Benefits,Fast-paced                                                                                                                                                                                                                                                        1\n",
       "Great Benefits,Fun,Professional Services                                                                                                                                                                                                                                                                              1\n",
       "Flexible Workplace,Food & Drink,Pet Friendly                                                                                                                                                                                                                                                                          1\n",
       "Flexible Workplace,Women Owned,Nonprofit,Sustainable,Minority Owned,Community Oriented,Creative                                                                                                                                                                                                                       1\n",
       "Arts & Design,Great Benefits,Women Owned,Professional,Creative,Retail                                                                                                                                                                                                                                                 1\n",
       "Education,Minority Owned,Great Benefits,Employee Owned,Creative,Flexible Workplace,Micro Business,Women Owned,Sustainable,LGBTQ Owned,Family Owned,Community Oriented,Manufacturing,Beauty & Spa,Nonprofit,Startups & Technology,Retail,Professional Services,Food & Drink,Other,Arts & Design,Health & Fitness       1\n",
       "Women Owned,Food & Drink,Diverse,Family Owned,Creative,Community Oriented                                                                                                                                                                                                                                             1\n",
       "Creative,Arts & Design,Nonprofit,Education,Community Oriented                                                                                                                                                                                                                                                         1\n",
       "Sustainable,Family Owned,Food & Drink,Community Oriented,Great Benefits                                                                                                                                                                                                                                               1\n",
       "Fun,Education,Work-life Balance                                                                                                                                                                                                                                                                                       1\n",
       "Collaborative,Nonprofit                                                                                                                                                                                                                                                                                               1\n",
       "Creative,Community Oriented,Great Benefits,Work-life Balance,Education                                                                                                                                                                                                                                                1\n",
       "Name: tag_names, Length: 2377, dtype: int64"
      ]
     },
     "execution_count": 4,
     "metadata": {},
     "output_type": "execute_result"
    }
   ],
   "source": [
    "df.tag_names.value_counts()"
   ]
  },
  {
   "cell_type": "code",
   "execution_count": null,
   "metadata": {
    "collapsed": true
   },
   "outputs": [],
   "source": []
  }
 ],
 "metadata": {
  "kernelspec": {
   "display_name": "Python 2",
   "language": "python",
   "name": "python2"
  },
  "language_info": {
   "codemirror_mode": {
    "name": "ipython",
    "version": 2
   },
   "file_extension": ".py",
   "mimetype": "text/x-python",
   "name": "python",
   "nbconvert_exporter": "python",
   "pygments_lexer": "ipython2",
   "version": "2.7.13"
  }
 },
 "nbformat": 4,
 "nbformat_minor": 2
}
