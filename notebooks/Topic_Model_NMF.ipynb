{
 "cells": [
  {
   "cell_type": "markdown",
   "metadata": {},
   "source": [
    "# Drawingboard / notes / todo:\n",
    "### What we're going: How we cluster into topics that make sense, then we check with the job title or other content to confirm that\n",
    "- Embeddings are the decomposition of each word or documents as its own vector to a factorization to a much lower dimension space - k number of columns/rows.  Thus, if we have 15 topics, then the W and H matrices will have document and word embedding in 15 dimension space.\n",
    "- We create orthognal vectors for the embeddings, which are vectors that have a dot product of 0 with each other, which is also thought of as everything cancelling out.\n",
    "- Or, we solve with alternating least squares?\n",
    "\n",
    "Questions from ben\n",
    "- What are the tuning part?\n",
    "  Maybe I can come up with either an flask interface, or a notebook?\n",
    "  Or, just indicate the hyper parameters\n",
    "  Dont spend too much time on impl of tags specifics\n",
    "  Get my story better\n",
    "\n",
    "Hyperparam tuning - possible with unsupervised learning?\n",
    "Statistical modeling?  Other plots?\n",
    "\n",
    "data prep\n",
    "x stem the data before dropping in TFIDF\n",
    "- identify/explciitly indicate synonyms?\n",
    "- user application history (might just be rules though)\n",
    "- tfidf ngrams\n",
    "- add to vectorizer weights\n",
    "- - view dataframe of vectoizer with words on cols and docs on rows\n",
    "\n",
    "Generate topics\n",
    "x from all documents\n",
    "- prefiltered by tag names\n",
    "- using only job titles\n",
    "- manually weighted words or parts of a document\n",
    "- part of speech weighting\n",
    "\n",
    "GridSearch / Pipeline\n",
    "\n",
    "Compare listings\n",
    "- list of docs most similar to any given other listing\n",
    "Compare to resume\n",
    "- list of docs most similar to a resume\n",
    "- use multiple section elements of the resume as paragraphs (like comparing multiple document pairs and such)\n",
    "\n",
    "Plots/Prints\n",
    "x top tags per topic, and their proportion\n",
    "- top terms per topic (in function outside of tm.fit)\n",
    "- term/doc representation - df or output to csv of docs on rows and words on cols with values as the tfidf score\n",
    "- heatmap, \n",
    "- - NMF heatmap python\n",
    "- 2d principal components graphic\n",
    "- k-means clustering on the vectors, the plot in 2d with PCA?\n",
    "\n",
    "Use w2v to test coherence\n",
    "Classify one document using the generated topics\n",
    "\n",
    "Make recommendation\n",
    "- Using other jobs with same topic number \n",
    "- ..and same tag?\n",
    "- ..and highes prob?\n",
    "- Use gensim for highest matching job document for the current query job, then highest matching job using the user's vectorized resume.  Then assign a score to both, then sort by the average of the 2 scores, and pick the top one.\n",
    "- - I believe I can use the same trained vectorizer/vocabulary to train the NMF with resume data, then do a highest similarity match using the word2vec similarity comapre.  But that wont have the same labeled sentences.  Maybe use word2vec and not doc2vec?\n",
    "\n",
    "Pipline class (https://stackoverflow.com/questions/36182502/add-stemming-support-to-countvectorizer-sklearn)\n",
    "- text_clf = Pipeline([('vect', stem_vectorizer), ('tfidf', TfidfTransformer()), ('clf', SVC(kernel='linear', C=1)) ])\n",
    "\n",
    "Todo:\n",
    "- Instead of getting signal, maybe I can identify relationships between words and topics and other sleuthing.\n",
    "- nimfa module\n",
    "- remove all adjectives?\n",
    "- decorator for time\n",
    "\n",
    "## 1 - Hyperparam tuning\n",
    "\n",
    "\n",
    "## 2 - tags\n",
    "Create multiple cluster groups\n",
    "- main for all jobs\n",
    "- 5 clusters for each tag group\n",
    "\n",
    "For query doc\n",
    "- subset group of jobs with those tags\n",
    "- - if less than say 10 jobs with that tag(s), run on all tags\n",
    "\n",
    "Or\n",
    "\n",
    "for each of the 16 clusters,\n",
    "- run a doc2vec on the sub cluster and get the most similar to the job desc\n",
    "- cross against user resume?"
   ]
  },
  {
   "cell_type": "code",
   "execution_count": 1,
   "metadata": {
    "collapsed": true
   },
   "outputs": [],
   "source": [
    "# import time\n",
    "# import applicants\n",
    "# import pandas as pd\n",
    "# import numpy as np\n",
    "# from sklearn.feature_extraction.text import TfidfVectorizer, CountVectorizer\n",
    "# from sklearn.feature_extraction import text\n",
    "# from sklearn.decomposition import NMF, LatentDirichletAllocation\n",
    "# from gensim.models.doc2vec import Doc2Vec, TaggedDocument\n",
    "# from nltk.stem.porter import PorterStemmer\n",
    "# from nltk.stem import WordNetLemmatizer\n",
    "# import gensim\n",
    "# from numpy.random import rand\n",
    "# from itertools import combinations\n",
    "# import time\n",
    "# import operator\n",
    "# import re\n",
    "# import os\n",
    "import topic_model, dataio, nlp_utils, jobs\n",
    "\n",
    "# import matplotlib\n",
    "import matplotlib.pyplot as plt\n",
    "%matplotlib inline\n",
    "#df_users = applicants.get_applicant_data()"
   ]
  },
  {
   "cell_type": "markdown",
   "metadata": {},
   "source": [
    "# Get the data and dataframe"
   ]
  },
  {
   "cell_type": "code",
   "execution_count": 2,
   "metadata": {},
   "outputs": [
    {
     "name": "stdout",
     "output_type": "stream",
     "text": [
      "Getting job posting data...\n",
      "- Time: 0.605592012405\n",
      "\n",
      "(24015, 5)\n"
     ]
    }
   ],
   "source": [
    "df_jobs = jobs.get_job_posting_data()\n",
    "#df_jobs = df_jobs[:1000].reset_index()  # Use a subset for faster dev iteration\n",
    "print df_jobs.shape\n",
    "\n",
    "docs = df_jobs.description\n",
    "titles = df_jobs.title"
   ]
  },
  {
   "cell_type": "code",
   "execution_count": 6,
   "metadata": {},
   "outputs": [
    {
     "data": {
      "text/plain": [
       "Experienced Barista                                                            9\n",
       "Baristas                                                                       9\n",
       "Apprentice Chocolate Maker                                                     9\n",
       "Senior Accountant                                                              9\n",
       "Experienced Server                                                             9\n",
       "Operations Associate                                                           9\n",
       "Server/Bartender                                                               9\n",
       "Director of Programs                                                           9\n",
       "Barista/Bartender                                                              9\n",
       "Spa Attendant                                                                  9\n",
       "Part Time Sales Associate                                                      9\n",
       "Barback                                                                        9\n",
       "Admin Assistant                                                                9\n",
       "Production Associate                                                           9\n",
       "Administrative Associate                                                       9\n",
       "Teachers                                                                       9\n",
       "Ice Cream Scooper                                                              9\n",
       "Food Server                                                                    9\n",
       "Afterschool Program Leader                                                     9\n",
       "Residential Counselor                                                          9\n",
       "Retail Manager                                                                 9\n",
       "Shift Leader                                                                   9\n",
       "Front Desk Staff                                                               9\n",
       "Software Engineer                                                              9\n",
       "Accounts Payable Specialist                                                    8\n",
       "Coach                                                                          8\n",
       "Accounting Clerk                                                               8\n",
       "Customer Support Specialist                                                    8\n",
       "Community Manager                                                              8\n",
       "After School Teacher                                                           8\n",
       "                                                                              ..\n",
       "Support Ops Analyst                                                            1\n",
       "Office and Project Manager                                                     1\n",
       "Instructional/School Culture Support                                           1\n",
       "Use Your Recruiter Skills in our $5.8 Trillion Dollar Industry!                1\n",
       "Stylist-Colorist, Salon-Assistant                                              1\n",
       "Great Opportunities for Live In Caregivers- Start A.S.A.P.                     1\n",
       "Inside Sales Building Materials                                                1\n",
       "Case/Care Manager/Personal Assistant for Physically Disabled Man (berkeley)    1\n",
       "Line Cook and Food Runner                                                      1\n",
       "Yoga Instructors                                                               1\n",
       "Construction Administrative Assistant                                          1\n",
       "Retail Sales & Wellness Advocate                                               1\n",
       "AfterCool Coach                                                                1\n",
       "Experienced Pet Groomer                                                        1\n",
       "Senior Residential Counselor – Day Shift                                       1\n",
       "Hair Stylist (Part Time)                                                       1\n",
       "Lead Salon Front Desk Receptionist                                             1\n",
       "Team Member - Grill and Prep                                                   1\n",
       "Senior iOS Engineer                                                            1\n",
       "Kitchen Line Staff, Busser                                                     1\n",
       "Plumbing Showroom Sales                                                        1\n",
       "Intermediate Interior Designer                                                 1\n",
       "Spa Concierge/Receptionist                                                     1\n",
       "Security/Door Person                                                           1\n",
       "Delivery Driver - Class C                                                      1\n",
       "Computer Technician - PT - Nonprofit                                           1\n",
       "Polisher                                                                       1\n",
       "Part-time Extended Care / Afterschool Program Aide                             1\n",
       "Southport And Irving Is Seeking Line Cooks                                     1\n",
       "Gold Club San Jose Now Hiring Bartenders, Security, Cocktail Servers           1\n",
       "Name: title, Length: 15355, dtype: int64"
      ]
     },
     "execution_count": 6,
     "metadata": {},
     "output_type": "execute_result"
    }
   ],
   "source": [
    "c = titles.value_counts()\n",
    "c[c < 19]"
   ]
  },
  {
   "cell_type": "markdown",
   "metadata": {},
   "source": [
    "# Perform the topic modeling <BR>- append the topic data to the docs in the dataframe"
   ]
  },
  {
   "cell_type": "code",
   "execution_count": 6,
   "metadata": {},
   "outputs": [
    {
     "name": "stdout",
     "output_type": "stream",
     "text": [
      "Number of documents to process: 24015\n",
      "\n",
      "Extracting Vectorizer features...\n",
      "- Time: 26.527s.\n",
      "\n",
      "Boosting title terms in document term matrix...\n",
      "- Time: 20.255s.\n",
      "\n",
      "Fitting nmf model with 24015 documents.  Vectorizer: \n",
      "LocalwiseVectorizer(inflection_form='lemmer', max_df=0.5, max_features=10000,\n",
      "          min_df=10, ngram_range=(1, 1))\n",
      "- Time: 22.865s.\n",
      "\n",
      "Reconstruction mse: 0.000241\n",
      "Topic 0: assistant, administrative, office, executive, receptionist, salon, project, task, general, phone, personal, assist, operation, legal, accounting\n",
      "\n",
      "Topic 1: cook, line, prep, restaurant, grill, cooking, pizza, breakfast, menu, station, fast, lunch, brunch, knife, cafe\n",
      "\n",
      "Topic 2: sale, retail, representative, store, customer, product, account, inside, business, lead, market, solar, commission, brand, boutique\n",
      "\n",
      "Topic 3: manager, office, operation, store, general, case, project, restaurant, account, business, management, kitchen, development, resource, community\n",
      "\n",
      "Topic 4: teacher, preschool, school, child, lead, toddler, education, early, childhood, infant, substitute, teaching, classroom, student, learning\n",
      "\n",
      "Topic 5: server, bartender, host, restaurant, bussers, wine, bar, event, cocktail, dining, cook, hospitality, beer, hostess, position\n",
      "\n",
      "Topic 6: program, school, director, leader, youth, community, family, counselor, child, activity, supervisor, development, afterschool, violence, domestic\n",
      "\n",
      "Topic 7: service, customer, representative, guest, office, support, desk, client, phone, agent, member, technician, receptionist, computer, success\n",
      "\n",
      "Topic 8: associate, retail, development, operation, store, desk, research, warehouse, administrative, project, event, inventory, communication, accounting, assist\n",
      "\n",
      "Topic 9: coordinator, office, event, salon, desk, volunteer, community, education, operation, administrative, receptionist, project, outreach, care, service\n",
      "\n",
      "Topic 10: barista, baristas, coffee, cafe, member, retail, drink, espresso, tea, shift, customer, bar, pastry, shop, cashier\n",
      "\n",
      "Topic 11: food, cashier, kitchen, host, prep, restaurant, member, runner, lead, shift, position, supervisor, crew, busser, house\n",
      "\n",
      "Topic 12: dishwasher, prep, cook, event, bartender, kitchen, dish, hospitality, position, busser, grill, catering, interview, selects, culinary\n",
      "\n",
      "Topic 13: driver, delivery, warehouse, pizza, catering, license, driving, valid, record, truck, vehicle, clean, class, operation, lift\n",
      "\n",
      "Topic 14: instructor, summer, school, camp, art, counselor, coach, swim, student, class, teaching, teach, fitness, tutor, math\n",
      "\n",
      "Topic 15: marketing, intern, social, medium, director, development, communication, internship, event, business, content, digital, design, campaign, brand\n",
      "\n",
      "Topic 16: chef, sou, kitchen, pastry, sushi, executive, restaurant, cuisine, helper, production, culinary, menu, catering, cooking, baker\n",
      "\n",
      "Topic 17: specialist, support, therapist, care, community, operation, data, entry, development, massage, family, technician, client, office, resource\n",
      "\n",
      "Tokenizing docs...\n",
      "- Time: 22.461s.\n",
      "\n",
      "Building Doc2Vec vocabulary...\n",
      "- Time: 1.393s.\n",
      "\n",
      "Doc2Vec model train...\n",
      "- Time: 156.202s.\n",
      "\n"
     ]
    }
   ],
   "source": [
    "# Params to build the vocab and topics\n",
    "min_df = 10\n",
    "max_df = .5\n",
    "k_topics = 18\n",
    "max_vocab_size = 10000\n",
    "ngram_range=(1,1)\n",
    "\n",
    "tm = topic_model.TopicModeller(model_type='NMF', vectorizer_type='localwise',\n",
    "                               max_vocab_size=max_vocab_size, \n",
    "                               min_df=min_df, \n",
    "                               max_df=max_df, \n",
    "                               ngram_range=ngram_range, \n",
    "                               k_topics=k_topics)\n",
    "tm.vectorize(docs)\n",
    "tm.document_term_mat = nlp_utils.boost_doc_title_terms_tfidf(titles, tm.vectorizer, tm.document_term_mat, scale=1)\n",
    "tm.fit(docs)"
   ]
  },
  {
   "cell_type": "code",
   "execution_count": 7,
   "metadata": {},
   "outputs": [
    {
     "name": "stdout",
     "output_type": "stream",
     "text": [
      "Tokenizing docs...\n",
      "- Time: 23.691s.\n",
      "\n"
     ]
    }
   ],
   "source": [
    "tokens = nlp_utils.get_tagged_docs(docs, 'asdf')"
   ]
  },
  {
   "cell_type": "code",
   "execution_count": 8,
   "metadata": {},
   "outputs": [
    {
     "name": "stderr",
     "output_type": "stream",
     "text": [
      "topic_model.py:223: RuntimeWarning: invalid value encountered in divide\n",
      "  probs = (topic_weights / topic_weights.sum())\n"
     ]
    }
   ],
   "source": [
    "top_topics, top_topic_weights = tm.get_top_topics_and_topic_probs()\n",
    "\n",
    "df_jobs['top_topic'] = top_topics\n",
    "df_jobs['top_topic_weight'] = top_topic_weights"
   ]
  },
  {
   "cell_type": "code",
   "execution_count": 9,
   "metadata": {
    "collapsed": true
   },
   "outputs": [],
   "source": [
    "# df_jobs"
   ]
  },
  {
   "cell_type": "markdown",
   "metadata": {},
   "source": [
    "# Do some exploration of the topic modeling data distribution"
   ]
  },
  {
   "cell_type": "code",
   "execution_count": 10,
   "metadata": {},
   "outputs": [
    {
     "name": "stdout",
     "output_type": "stream",
     "text": [
      "Total records: 24015\n",
      "= 1: 601 (0.0250260254008)\n",
      "> .75: 7326 (0.305059337914)\n",
      "> .50 < .75: 6506 (0.270914012076)\n",
      "> .25 < .50: 7614 (0.317051842598)\n",
      "< .25: 2332 (0.097105975432)\n"
     ]
    },
    {
     "data": {
      "text/plain": [
       "<matplotlib.figure.Figure at 0x7f08780edf90>"
      ]
     },
     "metadata": {},
     "output_type": "display_data"
    },
    {
     "data": {
      "image/png": "[encoded data removed]",
      "text/plain": [
       "<matplotlib.figure.Figure at 0x7f084085c3d0>"
      ]
     },
     "metadata": {},
     "output_type": "display_data"
    }
   ],
   "source": [
    "# Plot/Print topic probablity distributions and counts for the topic clusters\n",
    "total = df_jobs.shape[0]\n",
    "print 'Total records: %s' % total\n",
    "one = df_jobs.top_topic_weight[df_jobs.top_topic_weight == 1].shape[0]\n",
    "print '= 1: %s (%s)' % (one, (float(one)/ total))\n",
    "q4 = df_jobs.top_topic_weight[df_jobs.top_topic_weight > .75].shape[0]\n",
    "print '> .75: %s (%s)' % (q4, (float(q4)/ total))\n",
    "q3 = df_jobs.top_topic_weight[(df_jobs.top_topic_weight > .5) & (df_jobs.top_topic_weight < .75)].shape[0]\n",
    "print '> .50 < .75: %s (%s)' % ((q3, float(q3)/ total))\n",
    "q2 = df_jobs.top_topic_weight[(df_jobs.top_topic_weight > .25) & (df_jobs.top_topic_weight < .5)].shape[0]\n",
    "print '> .25 < .50: %s (%s)' % ((q2, float(q2)/ total))\n",
    "q1 = df_jobs.top_topic_weight[df_jobs.top_topic_weight < .25].shape[0]\n",
    "print '< .25: %s (%s)' % ((q1, float(q1)/ total))\n",
    "\n",
    "# print df_jobs.top_topic_weight[df_jobs.top_topic_weight == 1]\n",
    "\n",
    "plt.figure(figsize=(15,5));\n",
    "fig, axarr = plt.subplots(2, 1, figsize=(15,10));\n",
    "axarr[0].set_xlabel('Probability of the Top Topic');\n",
    "axarr[0].set_ylabel('Probability Bin Total');\n",
    "df_jobs.top_topic_weight.hist(ax=axarr[0], bins=100, color='c');\n",
    "axarr[1].set_xlabel('Topic Number');\n",
    "axarr[1].set_ylabel('Total Records');\n",
    "df_jobs.top_topic.hist(ax=axarr[1], bins=100);"
   ]
  },
  {
   "cell_type": "code",
   "execution_count": 11,
   "metadata": {},
   "outputs": [
    {
     "name": "stdout",
     "output_type": "stream",
     "text": [
      "Top 20 terms across all 9860 terms (ranked by the term's vector tfidf sum):\n",
      "  01. manager (1824.89)\n",
      "  02. cook (1812.34)\n",
      "  03. assistant (1680.61)\n",
      "  04. sale (1419.20)\n",
      "  05. service (1204.58)\n",
      "  06. line (1121.30)\n",
      "  07. teacher (1094.28)\n",
      "  08. server (1055.30)\n",
      "  09. associate (1012.88)\n",
      "  10. program (992.04)\n",
      "  11. customer (965.72)\n",
      "  12. coordinator (716.15)\n",
      "  13. food (682.18)\n",
      "  14. office (680.56)\n",
      "  15. school (674.82)\n",
      "  16. restaurant (620.11)\n",
      "  17. dishwasher (618.08)\n",
      "  18. marketing (586.72)\n",
      "  19. kitchen (572.00)\n",
      "  20. member (560.01)\n"
     ]
    }
   ],
   "source": [
    "term_ranks = tm.rank_terms()\n",
    "\n",
    "top_n = 20\n",
    "print \"Top %s terms across all %s terms (ranked by the term's vector tfidf sum):\" % (top_n, len(tm.vectorizer.vocabulary_))\n",
    "for i, pair in enumerate( term_ranks[0:top_n] ):\n",
    "    print( \"  %02d. %s (%.2f)\" % ( i+1, pair[0], pair[1] ) )"
   ]
  },
  {
   "cell_type": "code",
   "execution_count": 12,
   "metadata": {},
   "outputs": [
    {
     "data": {
      "text/html": [
       "<div>\n",
       "<style scoped>\n",
       "    .dataframe tbody tr th:only-of-type {\n",
       "        vertical-align: middle;\n",
       "    }\n",
       "\n",
       "    .dataframe tbody tr th {\n",
       "        vertical-align: top;\n",
       "    }\n",
       "\n",
       "    .dataframe thead th {\n",
       "        text-align: right;\n",
       "    }\n",
       "</style>\n",
       "<table border=\"1\" class=\"dataframe\">\n",
       "  <thead>\n",
       "    <tr style=\"text-align: right;\">\n",
       "      <th></th>\n",
       "      <th>id</th>\n",
       "      <th>business_id</th>\n",
       "      <th>title</th>\n",
       "      <th>description</th>\n",
       "      <th>tag_names</th>\n",
       "      <th>top_topic</th>\n",
       "      <th>top_topic_weight</th>\n",
       "    </tr>\n",
       "  </thead>\n",
       "  <tbody>\n",
       "    <tr>\n",
       "      <th>21</th>\n",
       "      <td>7324</td>\n",
       "      <td>1932</td>\n",
       "      <td>Line Cook</td>\n",
       "      <td>Bissab baobab in SF is looking for someone to ...</td>\n",
       "      <td>Food &amp; Drink</td>\n",
       "      <td>1</td>\n",
       "      <td>1.0</td>\n",
       "    </tr>\n",
       "    <tr>\n",
       "      <th>83</th>\n",
       "      <td>2927</td>\n",
       "      <td>2322</td>\n",
       "      <td>Marketing Assembly Gig</td>\n",
       "      <td>I have a bunch of marketing materials for some...</td>\n",
       "      <td>Other,Startups &amp; Technology,Food &amp; Drink</td>\n",
       "      <td>15</td>\n",
       "      <td>1.0</td>\n",
       "    </tr>\n",
       "    <tr>\n",
       "      <th>84</th>\n",
       "      <td>4438</td>\n",
       "      <td>2322</td>\n",
       "      <td>Marketing</td>\n",
       "      <td>Doing marketing work in Berkeley, whether at C...</td>\n",
       "      <td>Other,Startups &amp; Technology,Food &amp; Drink</td>\n",
       "      <td>15</td>\n",
       "      <td>1.0</td>\n",
       "    </tr>\n",
       "    <tr>\n",
       "      <th>88</th>\n",
       "      <td>8493</td>\n",
       "      <td>2342</td>\n",
       "      <td>Indoor Cycling Instructor</td>\n",
       "      <td>&gt; CRUfit is seeking an outgoing indoor cycling...</td>\n",
       "      <td>Health &amp; Fitness</td>\n",
       "      <td>14</td>\n",
       "      <td>1.0</td>\n",
       "    </tr>\n",
       "    <tr>\n",
       "      <th>134</th>\n",
       "      <td>19972</td>\n",
       "      <td>2590</td>\n",
       "      <td>Indoor-Cycling Instructor (Audition)</td>\n",
       "      <td>RiDE Oakland, Oakland's premier dedicated indo...</td>\n",
       "      <td>Health &amp; Fitness</td>\n",
       "      <td>14</td>\n",
       "      <td>1.0</td>\n",
       "    </tr>\n",
       "  </tbody>\n",
       "</table>\n",
       "</div>"
      ],
      "text/plain": [
       "        id  business_id                                 title  \\\n",
       "21    7324         1932                             Line Cook   \n",
       "83    2927         2322                Marketing Assembly Gig   \n",
       "84    4438         2322                             Marketing   \n",
       "88    8493         2342             Indoor Cycling Instructor   \n",
       "134  19972         2590  Indoor-Cycling Instructor (Audition)   \n",
       "\n",
       "                                           description  \\\n",
       "21   Bissab baobab in SF is looking for someone to ...   \n",
       "83   I have a bunch of marketing materials for some...   \n",
       "84   Doing marketing work in Berkeley, whether at C...   \n",
       "88   > CRUfit is seeking an outgoing indoor cycling...   \n",
       "134  RiDE Oakland, Oakland's premier dedicated indo...   \n",
       "\n",
       "                                    tag_names  top_topic  top_topic_weight  \n",
       "21                               Food & Drink          1               1.0  \n",
       "83   Other,Startups & Technology,Food & Drink         15               1.0  \n",
       "84   Other,Startups & Technology,Food & Drink         15               1.0  \n",
       "88                           Health & Fitness         14               1.0  \n",
       "134                          Health & Fitness         14               1.0  "
      ]
     },
     "execution_count": 12,
     "metadata": {},
     "output_type": "execute_result"
    }
   ],
   "source": [
    "doc_with_weights_one = df_jobs[df_jobs.top_topic_weight == 1.0]\n",
    "doc_with_weights_one.head()"
   ]
  },
  {
   "cell_type": "markdown",
   "metadata": {},
   "source": [
    "# Document record exploration"
   ]
  },
  {
   "cell_type": "code",
   "execution_count": 13,
   "metadata": {},
   "outputs": [
    {
     "name": "stdout",
     "output_type": "stream",
     "text": [
      "doc_idx: 12 \n",
      "lw record number: 6936\n",
      "- Top terms:\n",
      "barista   : 1.0       \n",
      "arranged  : 0.403473407761\n",
      "max       : 0.391747493264\n",
      "flavor    : 0.318340553861\n",
      "joining   : 0.265645730541\n",
      "entire    : 0.262548861179\n",
      "personable: 0.257471360812\n",
      "mail      : 0.216519142447\n",
      "fit       : 0.213070790792\n",
      "train     : 0.193639191622\n",
      "energetic : 0.191040892878\n",
      "interview : 0.189560205279\n",
      "time      : 0.18722022355\n",
      "open      : 0.159311852571\n",
      "candidate : 0.156783507455\n",
      "restaurant: 0.155870002842\n"
     ]
    }
   ],
   "source": [
    "doc_idx = 12\n",
    "doc_lw_id = df_jobs.iloc[doc_idx].id\n",
    "print 'doc_idx: %s \\nlw record number: %s' % (doc_idx, doc_lw_id)\n",
    "\n",
    "print '- Top terms:'\n",
    "tfidf_scores = tm.get_doc_terms_and_scores(doc_idx)\n",
    "for key, value in sorted(tfidf_scores.iteritems(), key=lambda (k,v): (v,k), reverse=True):\n",
    "    print \"{:<10}: {:<10}\".format(key, value)\n",
    "    \n",
    "dfv = tm.document_term_mat_toframe()\n",
    "# print dfv.head()\n",
    "# for col in dfv.columns:\n",
    "#     print col"
   ]
  },
  {
   "cell_type": "code",
   "execution_count": 14,
   "metadata": {
    "collapsed": true
   },
   "outputs": [],
   "source": [
    "#\n",
    "# Print top n tags for each topic\n",
    "#\n",
    "n_top_tags = 3\n",
    "def get_topic_top_tags(topic_num, n_tags):\n",
    "    t = df_jobs[df_jobs.top_topic == topic_num].tag_names.value_counts()[:n_tags]\n",
    "    p = t / t.sum()\n",
    "    df = t.to_frame(name='tag name count')\n",
    "    df['tag name proportion'] = p\n",
    "    return df\n",
    "\n",
    "# for i in range(df_jobs.top_topic.max()+1):\n",
    "#     tmp_df = get_topic_top_tags(i, n_top_tags)\n",
    "#     print '\\nTop tags for topic %s:' % i\n",
    "#     print tmp_df"
   ]
  },
  {
   "cell_type": "code",
   "execution_count": 16,
   "metadata": {},
   "outputs": [
    {
     "name": "stdout",
     "output_type": "stream",
     "text": [
      "doc index/record id: 21117/12\n",
      "\n",
      "record data:\n",
      "Key             Value          \n",
      "business_id     {21117: 1987}  \n",
      "description     {21117: 'Hiring experienced server, line cook, server, and dishwasher'}\n",
      "id              {21117: 12}    \n",
      "tag_names       {21117: 'Food & Drink'}\n",
      "title           {21117: 'Back of House Positions & Server'}\n",
      "top_topic       {21117: 5}     \n",
      "top_topic_weight {21117: 0.44888295710092085}\n",
      "\n",
      "vector values\n",
      "server          1.0            \n",
      "dishwasher      0.593695811399 \n",
      "cook            0.460605042382 \n",
      "line            0.411206240604 \n",
      "Top Tags:\n",
      "                                                    tag name count  \\\n",
      "Food & Drink                                                   879   \n",
      "Flexible,Other,Professional Services,Food & Dri...              88   \n",
      "Family Owned,Food & Drink                                       16   \n",
      "\n",
      "                                                    tag name proportion  \n",
      "Food & Drink                                                   0.894201  \n",
      "Flexible,Other,Professional Services,Food & Dri...             0.089522  \n",
      "Family Owned,Food & Drink                                      0.016277  \n",
      "\n",
      "Top Topics:\n",
      "\n",
      "top topic: 5\n",
      "top topic weight: 0.44888295710092085\n",
      "(5, 0.44888295710092085)\n",
      "(12, 0.3206192471930179)\n",
      "(1, 0.23049779570606127)\n",
      "(17, 0.0)\n",
      "(7, 0.0)\n"
     ]
    },
    {
     "data": {
      "image/png": "[encoded data removed]",
      "text/plain": [
       "<matplotlib.figure.Figure at 0x7f081514ad90>"
      ]
     },
     "metadata": {},
     "output_type": "display_data"
    }
   ],
   "source": [
    "# Inspect a record data\n",
    "import numpy as np\n",
    "def inspect_record(doc_lw_id):\n",
    "    '''\n",
    "    doc_lw_id is the localwise 'id' column\n",
    "    '''\n",
    "    record = df_jobs[df_jobs.id == doc_lw_id]\n",
    "    doc_index = record.index.values[0]\n",
    "    print 'doc index/record id: %s/%s\\n' % (doc_index, doc_lw_id)\n",
    "    \n",
    "    d = record.to_dict()\n",
    "    print 'record data:'\n",
    "    print \"{:<15} {:<15}\".format('Key','Value')\n",
    "    for key in sorted(d.keys()):\n",
    "        print \"{:<15} {:<15}\".format(key, d[key])\n",
    "\n",
    "    print\n",
    "    print 'vector values'\n",
    "    feature_names = tm.vectorizer.get_feature_names()\n",
    "    feature_index = tm.document_term_mat[doc_index,:].nonzero()[1]\n",
    "\n",
    "    tfidf_scores = zip(feature_index, [tm.document_term_mat[doc_index, x] for x in feature_index])\n",
    "    tfidf_dict = {s: feature_names[i] for (i, s) in tfidf_scores}\n",
    "    #print\n",
    "    for i, key in enumerate(sorted(tfidf_dict.keys(), reverse=True)):\n",
    "        if i < 10:\n",
    "            print \"{:<15} {:<15}\".format(tfidf_dict[key], key)\n",
    "    \n",
    "    probs = tm.get_normalized_probs(tm.W[doc_index])\n",
    "    ordered_idxs = np.argsort(probs)[::-1]\n",
    "    top_topic = ordered_idxs[0]\n",
    "    # print \"Topic probabilities:\\n%s\\n\" % probs\n",
    "    print \"Top Tags:\\n%s\\n\" % get_topic_top_tags(top_topic, 3)\n",
    "    print \"Top Topics:\\n\"\n",
    "    print 'top topic: %s' % record.top_topic.values[0]\n",
    "    print 'top topic weight: %s' % record.top_topic_weight.values[0]\n",
    "    for i in range(5):\n",
    "        print (ordered_idxs[i], probs[ordered_idxs[i]])\n",
    "\n",
    "    top_topics.append(ordered_idxs[0])\n",
    "    top_topic_weights.append(probs[ordered_idxs[0]])\n",
    "    plt.pie(probs[ordered_idxs[:5]], labels=ordered_idxs[:5])\n",
    "    #print df_jobs.iloc[row_num].description\n",
    "inspect_record(doc_idx)\n",
    "#inspect_record(doc_lw_id)"
   ]
  },
  {
   "cell_type": "markdown",
   "metadata": {},
   "source": [
    "# \"Similar Job Posting\" recommendation"
   ]
  },
  {
   "cell_type": "code",
   "execution_count": 17,
   "metadata": {
    "collapsed": true
   },
   "outputs": [],
   "source": [
    "# # Subset the jobs by topic as a preprocessing step\n",
    "# job_subset = df_jobs[(df_jobs.top_topic == int(12))]\n",
    "# job_subset.iloc[doc_idx]"
   ]
  },
  {
   "cell_type": "code",
   "execution_count": 18,
   "metadata": {},
   "outputs": [
    {
     "data": {
      "text/plain": [
       "(1, 1)"
      ]
     },
     "execution_count": 18,
     "metadata": {},
     "output_type": "execute_result"
    }
   ],
   "source": [
    "tm.vectorizer.ngram_range"
   ]
  },
  {
   "cell_type": "code",
   "execution_count": 24,
   "metadata": {},
   "outputs": [
    {
     "name": "stdout",
     "output_type": "stream",
     "text": [
      "Query job topic: 10\n",
      "Query job:\n",
      "- job id: 6936 (topic prob: 0.9947657640130495)\n",
      "- topic top tags: \n",
      "                           tag name count  tag name proportion\n",
      "Food & Drink                          350             0.870647\n",
      "Retail,Food & Drink                    30             0.074627\n",
      "Family Owned,Food & Drink              22             0.054726\n",
      "\n",
      "- title: Barista\n",
      "- desc: **Hiring for barista position**\n",
      "\n",
      "Minimum one year restaurant or barista experience required.&nbsp;Will train to fit our flavor.\n",
      "\n",
      "Must be available to work at least three days, up to five days per week &nbsp;\n",
      "\n",
      "**Weekday and weekend availability required**&nbsp;\n",
      "\n",
      "Shifts are from 7:30am-3:30pm - must b\n",
      "\n",
      "tags: ['Food & Drink']\n",
      "Num records after filter: (644, 7)\n",
      "Tokenizing docs...\n",
      "- Time: 0.630s.\n",
      "\n",
      "Building Doc2Vec vocabulary...\n",
      "- Time: 0.086s.\n",
      "\n",
      "Doc2Vec model train...\n",
      "- Time: 2.642s.\n",
      "\n",
      "[('job_posting_634', 0.9111703038215637), ('job_posting_358', 0.9041643142700195), ('job_posting_4', 0.900353729724884), ('job_posting_131', 0.8623409271240234), ('job_posting_481', 0.8076932430267334), ('job_posting_411', 0.7851539850234985), ('job_posting_82', 0.7780947685241699), ('job_posting_414', 0.7405788898468018), ('job_posting_529', 0.7337135076522827), ('job_posting_437', 0.7188832759857178)]\n",
      "Recommending job 21887 (prob 0.5907184416357515)\n",
      "- idx: 23628\n",
      "- id: 21887\n",
      "- title: Le Pain Quotidien - Now Hiring Baristas\n",
      "- desc: Come Grow with Us!!\n",
      "\n",
      "We are the team members of Le Pain Quotidien and we are currently searching for\n"
     ]
    }
   ],
   "source": [
    "import re\n",
    "\n",
    "# # Vectorizer to be used throughout\n",
    "# vectorizer = TfidfVectorizer(token_pattern=topic_model.get_token_pattern(),\n",
    "#                                               min_df=min_df,\n",
    "#                                               max_df=max_df,                             \n",
    "#                                               max_features=max_vocab_size,\n",
    "#                                               stop_words=topic_model.get_stop_words(),\n",
    "#                                               ngram_range=ngram_range)\n",
    "# Helper utility\n",
    "# d2v_ut = d2v_utils.D2V_Utils(tm.vectorizer)\n",
    "\n",
    "# def get_doc2vec_model(docs):\n",
    "# ...\n",
    "#     return _d2v_model\n",
    "\n",
    "# Given a record, recommend another record\n",
    "# Flexible logic here...\n",
    "def make_recommendation(job_lw_id):\n",
    "    # Get the input job's topic\n",
    "    query_job = df_jobs[df_jobs.id == job_lw_id]\n",
    "    source_prob = query_job.top_topic_weight.values[0]\n",
    "    source_title = query_job.title.values[0]\n",
    "    topic = query_job.top_topic.values[0]\n",
    "    print 'Query job topic: %s' % topic\n",
    "    print 'Query job:'\n",
    "    print '- job id: %s (topic prob: %s)' % (job_lw_id, source_prob)\n",
    "    print '- topic top tags: \\n%s\\n' % get_topic_top_tags(int(topic), 3)\n",
    "    print '- title: %s' % query_job.title.values[0]\n",
    "    print '- desc: %s\\n' % query_job.description.values[0][:300]\n",
    "    \n",
    "    # Get the input job's tags\n",
    "    tags = query_job.tag_names\n",
    "    print 'tags: %s' % tags.values[0].split(',')\n",
    "    \n",
    "    #\n",
    "    # Filter..\n",
    "    #\n",
    "    # 1. Subset jobs with same title\n",
    "    #\n",
    "    # 2. subset jobs with same topic\n",
    "    job_subset = df_jobs[(df_jobs.top_topic == int(topic))]\n",
    "    # Get all records with that topic with high weight\n",
    "    #topic_records = df_jobs[(df_jobs.top_topic == int(topic)) & (df_jobs.top_topic_weight > .85)]\n",
    "    # Get all records with that topic and title\n",
    "    #topic_records = df_jobs[(df_jobs.top_topic == int(topic)) & (df_jobs.title == source_title)]\n",
    "    \n",
    "    print 'Num records after filter:',job_subset.shape\n",
    "    \n",
    "    # \n",
    "    # Select record\n",
    "    # \n",
    "    # 1. Doc2Vec on subset of jobs\n",
    "    # d2v_model = nlp_utils.get_doc2vec_model(job_subset.description)\n",
    "    d2v_model = nlp_utils.get_doc2vec_model(job_subset.description)\n",
    "    \n",
    "    from nltk.stem import WordNetLemmatizer\n",
    "    analyzer = tm.vectorizer.build_analyzer()\n",
    "    sw = nlp_utils.get_stop_words()\n",
    "    pattern = re.compile(nlp_utils.get_token_pattern())\n",
    "    lemmer = WordNetLemmatizer()\n",
    "    \n",
    "    # If have the query tag id, probably not...\n",
    "    #id_str = 'job_posting_' + str(job_id)\n",
    "    #sims = d2v_model.docvecs.most_similar(id_str)\n",
    "    # otherwise, clear text query by infer vector\n",
    "    doc = query_job.description.values[0]\n",
    "    # print doc\n",
    "    tokens = [lemmer.lemmatize(w) for w in list(set(analyzer(doc)) - set(sw))\n",
    "                 if pattern.match(w)]\n",
    "    new_vector = d2v_model.infer_vector(tokens)\n",
    "    sims = d2v_model.docvecs.most_similar([new_vector]) #gives you top 10 document tags and their cosine similarity\n",
    "    sims\n",
    "    print sims\n",
    "    top_job = sims[0][0]\n",
    "    r_index = int(top_job.split('_')[:1:-1][0])\n",
    "    \n",
    "    # 2. Pick one at random\n",
    "    # r = np.random.randint(low=0, high=job_subset.shape[0]-1)\n",
    "    \n",
    "    df_j_rec = job_subset.iloc[r_index].id\n",
    "    return df_j_rec\n",
    "\n",
    "recommended_doc_lw_id = make_recommendation(doc_lw_id)\n",
    "recommended_doc_top_prob = df_jobs[df_jobs.id == recommended_doc_lw_id].top_topic_weight.values[0]\n",
    "print 'Recommending job %s (prob %s)' % (recommended_doc_lw_id, recommended_doc_top_prob)\n",
    "print '- idx: %s' % df_jobs[df_jobs.id == recommended_doc_lw_id].index.values[0]\n",
    "print '- id: %s' % recommended_doc_lw_id\n",
    "print '- title: %s' % df_jobs[df_jobs.id == recommended_doc_lw_id].title.values[0]\n",
    "print '- desc: %s' % df_jobs[df_jobs.id == recommended_doc_lw_id].description.values[0][:100]"
   ]
  },
  {
   "cell_type": "code",
   "execution_count": 57,
   "metadata": {
    "collapsed": true
   },
   "outputs": [],
   "source": [
    "# df_jobs[df_jobs.title.str.contains('busser')]"
   ]
  },
  {
   "cell_type": "code",
   "execution_count": 59,
   "metadata": {},
   "outputs": [
    {
     "name": "stdout",
     "output_type": "stream",
     "text": [
      "Top 20 terms across all 10000 terms (ranked by the term's vector tfidf sum):\n",
      "  01. manager (1827.14)\n",
      "  02. cook (1814.95)\n",
      "  03. assistant (1680.55)\n",
      "  04. sale (1420.52)\n",
      "  05. service (1203.72)\n",
      "  06. line (1121.56)\n",
      "  07. teacher (1095.21)\n",
      "  08. server (1061.95)\n",
      "  09. associate (1013.36)\n",
      "  10. program (991.68)\n",
      "  11. customer (964.82)\n",
      "  12. coordinator (716.12)\n",
      "  13. food (681.47)\n",
      "  14. office (680.32)\n",
      "  15. school (674.48)\n",
      "  16. dishwasher (623.05)\n",
      "  17. restaurant (618.90)\n",
      "  18. marketing (586.60)\n",
      "  19. kitchen (572.28)\n",
      "  20. member (559.65)\n"
     ]
    }
   ],
   "source": [
    "term_ranks = tm.rank_terms()\n",
    "\n",
    "top_n = 20\n",
    "print \"Top %s terms across all %s terms (ranked by the term's vector tfidf sum):\" % (top_n, len(tm.vectorizer.vocabulary_))\n",
    "for i, pair in enumerate( term_ranks[0:top_n] ):\n",
    "    print( \"  %02d. %s (%.2f)\" % ( i+1, pair[0], pair[1] ) )"
   ]
  },
  {
   "cell_type": "markdown",
   "metadata": {},
   "source": [
    "# Determine optimal number of clusters"
   ]
  },
  {
   "cell_type": "code",
   "execution_count": 15,
   "metadata": {},
   "outputs": [
    {
     "name": "stdout",
     "output_type": "stream",
     "text": [
      "Applying NMF for k=3 ...\n",
      "- Time: 4.138s.\n",
      "Applying NMF for k=4 ...\n",
      "- Time: 3.806s.\n",
      "Applying NMF for k=5 ...\n",
      "- Time: 7.519s.\n",
      "Applying NMF for k=6 ...\n",
      "- Time: 4.140s.\n",
      "Applying NMF for k=7 ...\n",
      "- Time: 4.963s.\n",
      "Applying NMF for k=8 ...\n",
      "- Time: 6.749s.\n",
      "Applying NMF for k=9 ...\n",
      "- Time: 6.770s.\n",
      "Applying NMF for k=10 ...\n",
      "- Time: 11.183s.\n",
      "Applying NMF for k=11 ...\n",
      "- Time: 11.350s.\n",
      "Applying NMF for k=12 ...\n",
      "- Time: 13.941s.\n",
      "Applying NMF for k=13 ...\n",
      "- Time: 16.115s.\n",
      "Applying NMF for k=14 ...\n",
      "- Time: 17.886s.\n",
      "Applying NMF for k=15 ...\n",
      "- Time: 18.383s.\n",
      "Applying NMF for k=16 ...\n",
      "- Time: 19.725s.\n",
      "Applying NMF for k=17 ...\n",
      "- Time: 20.591s.\n",
      "Applying NMF for k=18 ...\n",
      "- Time: 14.098s.\n",
      "Applying NMF for k=19 ...\n",
      "- Time: 22.921s.\n",
      "Applying NMF for k=20 ...\n",
      "- Time: 12.799s.\n",
      "Applying NMF for k=21 ...\n",
      "- Time: 25.340s.\n",
      "Applying NMF for k=22 ...\n",
      "- Time: 27.186s.\n",
      "Applying NMF for k=23 ...\n",
      "- Time: 27.972s.\n",
      "Applying NMF for k=24 ...\n",
      "- Time: 15.336s.\n",
      "Applying NMF for k=25 ...\n",
      "- Time: 24.899s.\n",
      "Tokenizing the documents...\n",
      "Tokenizing the documents...\n",
      "Tokenizing the documents...\n",
      "Tokenizing the documents...\n",
      "Tokenizing the documents...\n",
      "Tokenizing the documents...\n",
      "- Time: 243.783s.\n",
      "Saving Word2vec model\n",
      "Model has 2620 terms\n",
      "K=03: Coherence=0.1850\n",
      "\n",
      "K=04: Coherence=0.2111\n",
      "\n",
      "K=05: Coherence=0.2070\n",
      "\n",
      "K=06: Coherence=0.2150\n",
      "\n",
      "K=07: Coherence=0.2122\n",
      "\n",
      "K=08: Coherence=0.2317\n",
      "\n",
      "K=09: Coherence=0.2426\n",
      "\n",
      "K=10: Coherence=0.2397\n",
      "\n",
      "K=11: Coherence=0.2349\n",
      "\n",
      "K=12: Coherence=0.2350\n",
      "\n",
      "K=13: Coherence=0.2473\n",
      "\n",
      "K=14: Coherence=0.2532\n",
      "\n",
      "K=15: Coherence=0.2533\n",
      "\n",
      "K=16: Coherence=0.2516\n",
      "\n",
      "K=17: Coherence=0.2539\n",
      "\n",
      "K=18: Coherence=0.2627\n",
      "\n",
      "K=19: Coherence=0.2498\n",
      "\n",
      "K=20: Coherence=0.2485\n",
      "\n",
      "K=21: Coherence=0.2462\n",
      "\n",
      "K=22: Coherence=0.2570\n",
      "\n",
      "K=23: Coherence=0.2500\n",
      "\n",
      "K=24: Coherence=0.2487\n",
      "\n",
      "K=25: Coherence=0.2477\n",
      "\n"
     ]
    },
    {
     "data": {
      "image/png": "[encoded data removed]",
      "text/plain": [
       "<matplotlib.figure.Figure at 0x7f2190362210>"
      ]
     },
     "metadata": {},
     "output_type": "display_data"
    },
    {
     "name": "stdout",
     "output_type": "stream",
     "text": [
      "Topic 01: project, marketing, medium, development, design, strategy, organization, event, manage, develop, role, social, campaign, partner, business\n",
      "Topic 02: standard, lift, safety, procedure, equipment, clean, ensure, guest, item, cleaning, stand, responsibility, period, product, lb\n",
      "Topic 03: student, school, teaching, class, teach, teacher, tutor, academic, instructor, college, grade, curriculum, learning, lesson, classroom\n",
      "Topic 04: persuasion, selects, extent, strictly, admitted, treated, discrimination, religious, relating, staffing, character, political, discus, fair, protected\n",
      "Topic 05: program, family, community, agency, service, life, client, intervention, adult, support, child, participant, assessment, county, provides\n",
      "Topic 06: restaurant, food, wine, dining, guest, bar, fast, fine, beer, year, paced, chef, menu, cocktail, hospitality\n",
      "Topic 07: test, drug, pas, clearance, tutor, check, negative, fingerprint, exam, background, testing, criminal, scan, fingerprinting, standardized\n",
      "Topic 08: customer, sale, store, retail, product, service, associate, weekend, brand, outgoing, business, motivated, merchandise, selling, merchandising\n",
      "Topic 09: cook, line, prep, kitchen, dishwasher, restaurant, cooking, food, hiring, chef, grill, position, pizza, knife, breakfast\n",
      "Topic 10: office, phone, task, excel, word, administrative, computer, call, microsoft, assistant, written, entry, filing, client, multi\n",
      "Topic 11: driver, license, valid, driving, record, delivery, vehicle, clean, reliable, car, truck, dmv, bay, lift, hour\n",
      "Topic 12: salon, stylist, hair, spa, client, commission, clientele, nail, licensed, cosmetology, located, beauty, barber, rent, receptionist\n",
      "Topic 13: coffee, barista, cafe, drink, food, sandwich, cashier, pastry, espresso, customer, baristas, bakery, morning, delicious, tip\n",
      "Topic 14: child, teacher, preschool, childhood, early, ece, unit, toddler, age, classroom, infant, parent, center, school, education\n",
      "Topic 15: urbansitter, sitter, babysitter, browse, babysitting, nanny, hunt, decide, tap, started, wage, connected, cut, app, book\n",
      "Topic 16: studio, constitutes, mod, clip, locker, hallway, duration, mirror, kneel, bathroom, arriving, bike, climb, soulcycle, athletic\n",
      "Topic 17: coach, sport, camp, kidztopros, playing, undergo, kid, instructor, coaching, soccer, fundamental, hired, contractor, transportation, tennis\n",
      "Topic 18: server, bartender, hiring, host, bussers, position, hostess, bar, dishwasher, tip, runner, busser, restaurant, cashier, wine\n"
     ]
    }
   ],
   "source": [
    "# Calculate the optimal k using word2vec for coherence metric\n",
    "topic_model.plot_optimal_k(docs.tolist(), tm.document_term_mat, tm.vectorizer,\n",
    "                           kmin=3, kmax=25, dim_size=500, min_df=min_df, \n",
    "                           max_vocab_size=max_vocab_size, num_top_terms=15,\n",
    "                           model_file_path='./data/',\n",
    "                           model_file_name='w2v-model.bin')"
   ]
  },
  {
   "cell_type": "code",
   "execution_count": 20,
   "metadata": {},
   "outputs": [
    {
     "data": {
      "text/plain": [
       "5000"
      ]
     },
     "execution_count": 20,
     "metadata": {},
     "output_type": "execute_result"
    }
   ],
   "source": [
    "# import pdb; pdb.set_trace()\n",
    "len(tm.vectorizer.get_feature_names())"
   ]
  },
  {
   "cell_type": "code",
   "execution_count": null,
   "metadata": {
    "collapsed": true
   },
   "outputs": [],
   "source": [
    "import numpy as np\n",
    "#doc_contents = df_jobs.description[20000:20001]\n",
    "doc_contents = df_jobs.description.iloc[21]\n",
    "\n",
    "#document_term_mat = tm.vectorizer.transform(['• The House approved the most sweeping tax rewrite in decades mostly along party lines, with lawmakers voting 227-203.• The action has now moved to the Senate, which is expected to vote on the bill, possibly on Tuesday evening.'])\n",
    "document_term_mat = tm.vectorizer.transform([doc_contents])\n",
    "W = tm.model.transform(document_term_mat)\n",
    "H = tm.model.components_\n",
    "\n",
    "print W.shape\n",
    "print H.shape\n",
    "print 'W:', W\n",
    "probs = W / W.sum(axis=1, keepdims=True)\n",
    "print 'W probs:', probs\n",
    "print\n",
    "print 'H:', H\n",
    "\n",
    "print np.argsort(W)[0][::-1]\n",
    "\n",
    "#print doc_contents.iloc[0]\n",
    "print doc_contents"
   ]
  },
  {
   "cell_type": "code",
   "execution_count": null,
   "metadata": {
    "collapsed": true
   },
   "outputs": [],
   "source": []
  }
 ],
 "metadata": {
  "kernelspec": {
   "display_name": "Python 2",
   "language": "python",
   "name": "python2"
  },
  "language_info": {
   "codemirror_mode": {
    "name": "ipython",
    "version": 2
   },
   "file_extension": ".py",
   "mimetype": "text/x-python",
   "name": "python",
   "nbconvert_exporter": "python",
   "pygments_lexer": "ipython2",
   "version": "2.7.14"
  }
 },
 "nbformat": 4,
 "nbformat_minor": 2
}
